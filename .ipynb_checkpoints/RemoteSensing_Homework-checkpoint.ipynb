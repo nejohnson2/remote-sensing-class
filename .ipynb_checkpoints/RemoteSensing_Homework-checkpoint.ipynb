{
 "metadata": {
  "name": "",
  "signature": "sha256:d0cf8acf9445d386bd7b108d881a843e3d9d478816adf36b1a83e252c6894308"
 },
 "nbformat": 3,
 "nbformat_minor": 0,
 "worksheets": [
  {
   "cells": [
    {
     "cell_type": "code",
     "collapsed": false,
     "input": [
      "import pandas as pd\n",
      "from datetime import datetime"
     ],
     "language": "python",
     "metadata": {},
     "outputs": [],
     "prompt_number": 2
    },
    {
     "cell_type": "markdown",
     "metadata": {},
     "source": [
      "## DSNY Tonnage Data"
     ]
    },
    {
     "cell_type": "code",
     "collapsed": false,
     "input": [
      "data = pd.read_csv('Data/DSNY_Monthly_Tonnage_Data.csv')"
     ],
     "language": "python",
     "metadata": {},
     "outputs": [],
     "prompt_number": 4
    },
    {
     "cell_type": "code",
     "collapsed": false,
     "input": [
      "# Create accurate borocd numbers\n",
      "district = []\n",
      "for i in data['COMMUNITYDISTRICT']:\n",
      "    if len(str(i)) == 1:\n",
      "        i = \"0\" + str(i)\n",
      "        district.append(i)\n",
      "    else:\n",
      "        district.append(i)\n",
      "\n",
      "data['COMMUNITYDISTRICT'] = district"
     ],
     "language": "python",
     "metadata": {},
     "outputs": [],
     "prompt_number": 5
    },
    {
     "cell_type": "code",
     "collapsed": false,
     "input": [
      "# join to create borocd\n",
      "data['BoroCD'] = data['BOROUGH_ID'].astype(str) + data['COMMUNITYDISTRICT'].astype(str)"
     ],
     "language": "python",
     "metadata": {},
     "outputs": [],
     "prompt_number": 6
    },
    {
     "cell_type": "code",
     "collapsed": false,
     "input": [
      "# Format Time in order to subset latter\n",
      "data['Collection_Date'] = [datetime.strptime(x, '%Y / %m') for x in data['MONTH']]"
     ],
     "language": "python",
     "metadata": {},
     "outputs": [],
     "prompt_number": 7
    },
    {
     "cell_type": "code",
     "collapsed": false,
     "input": [
      "# set time as index to subset later\n",
      "data.set_index('Collection_Date', inplace=True)"
     ],
     "language": "python",
     "metadata": {},
     "outputs": [],
     "prompt_number": 8
    },
    {
     "cell_type": "code",
     "collapsed": false,
     "input": [
      "#data.drop('MONTH', axis=1, inplace=True)"
     ],
     "language": "python",
     "metadata": {},
     "outputs": [],
     "prompt_number": 52
    },
    {
     "cell_type": "markdown",
     "metadata": {},
     "source": [
      "## Read Population"
     ]
    },
    {
     "cell_type": "code",
     "collapsed": false,
     "input": [
      "pop = pd.read_excel('Data/t_pl_p1_cd.xlsx', skiprows=5)"
     ],
     "language": "python",
     "metadata": {},
     "outputs": [],
     "prompt_number": 9
    },
    {
     "cell_type": "code",
     "collapsed": false,
     "input": [
      "# Subset\n",
      "pop.dropna(inplace=True)\n",
      "pop.columns = ['BoroCD','Community_District', '1970', '1980','1990','2000','2010','Number','Percent']\n",
      "pop = pop[['BoroCD', '2010']]"
     ],
     "language": "python",
     "metadata": {},
     "outputs": [],
     "prompt_number": 10
    },
    {
     "cell_type": "code",
     "collapsed": false,
     "input": [
      "# Clean Data\n",
      "district = []\n",
      "for i in pop['BoroCD']:\n",
      "    i = str(i).strip()\n",
      "    if len(str(i)) == 1:\n",
      "        i = \"0\" + str(i)\n",
      "        district.append(i)\n",
      "    else:\n",
      "        district.append(str(i))\n",
      "pop['BoroCD'] = district"
     ],
     "language": "python",
     "metadata": {},
     "outputs": [],
     "prompt_number": 11
    },
    {
     "cell_type": "code",
     "collapsed": false,
     "input": [
      "# Create proper BoroCD column\n",
      "pop['BoroCD'][0:12] = [\"2\" + str(x) for x in pop['BoroCD'][0:12]]\n",
      "pop['BoroCD'][12:30] = [\"3\" + str(x) for x in pop['BoroCD'][12:30]]\n",
      "pop['BoroCD'][30:42] = [\"1\" + str(x) for x in pop['BoroCD'][30:42]]\n",
      "pop['BoroCD'][42:56] = [\"4\" + str(x) for x in pop['BoroCD'][42:56]]\n",
      "pop['BoroCD'][56:59] = [\"5\" + str(x) for x in pop['BoroCD'][56:59]]"
     ],
     "language": "python",
     "metadata": {},
     "outputs": [
      {
       "output_type": "stream",
       "stream": "stderr",
       "text": [
        "-c:2: SettingWithCopyWarning: \n",
        "A value is trying to be set on a copy of a slice from a DataFrame\n",
        "\n",
        "See the the caveats in the documentation: http://pandas.pydata.org/pandas-docs/stable/indexing.html#indexing-view-versus-copy\n",
        "-c:3: SettingWithCopyWarning: \n",
        "A value is trying to be set on a copy of a slice from a DataFrame\n",
        "\n",
        "See the the caveats in the documentation: http://pandas.pydata.org/pandas-docs/stable/indexing.html#indexing-view-versus-copy\n",
        "-c:4: SettingWithCopyWarning: \n",
        "A value is trying to be set on a copy of a slice from a DataFrame\n",
        "\n",
        "See the the caveats in the documentation: http://pandas.pydata.org/pandas-docs/stable/indexing.html#indexing-view-versus-copy\n"
       ]
      },
      {
       "output_type": "stream",
       "stream": "stderr",
       "text": [
        "-c:5: SettingWithCopyWarning: \n",
        "A value is trying to be set on a copy of a slice from a DataFrame\n",
        "\n",
        "See the the caveats in the documentation: http://pandas.pydata.org/pandas-docs/stable/indexing.html#indexing-view-versus-copy\n",
        "-c:6: SettingWithCopyWarning: \n",
        "A value is trying to be set on a copy of a slice from a DataFrame\n",
        "\n",
        "See the the caveats in the documentation: http://pandas.pydata.org/pandas-docs/stable/indexing.html#indexing-view-versus-copy\n"
       ]
      }
     ],
     "prompt_number": 12
    },
    {
     "cell_type": "markdown",
     "metadata": {},
     "source": [
      "# Merge Files"
     ]
    },
    {
     "cell_type": "code",
     "collapsed": false,
     "input": [
      "# Subset 2014 data\n",
      "tons_2014 = data['2014'].groupby(['BoroCD'])['REFUSETONSCOLLECTED', 'PAPERTONSCOLLECTED','MGPTONSCOLLECTED'].sum()"
     ],
     "language": "python",
     "metadata": {},
     "outputs": [],
     "prompt_number": 13
    },
    {
     "cell_type": "code",
     "collapsed": false,
     "input": [
      "# Merge population data with tonnage data\n",
      "tons = tons_2014.reset_index().merge(pop)"
     ],
     "language": "python",
     "metadata": {},
     "outputs": [],
     "prompt_number": 14
    },
    {
     "cell_type": "code",
     "collapsed": false,
     "input": [
      "income = pd.read_csv('Data/income.csv')"
     ],
     "language": "python",
     "metadata": {},
     "outputs": [],
     "prompt_number": 16
    },
    {
     "cell_type": "code",
     "collapsed": false,
     "input": [
      "tons.shape"
     ],
     "language": "python",
     "metadata": {},
     "outputs": [
      {
       "metadata": {},
       "output_type": "pyout",
       "prompt_number": 20,
       "text": [
        "(59, 5)"
       ]
      }
     ],
     "prompt_number": 20
    },
    {
     "cell_type": "code",
     "collapsed": false,
     "input": [
      "income['BoroCD'] = income['BoroCD'].astype(str)"
     ],
     "language": "python",
     "metadata": {},
     "outputs": [],
     "prompt_number": 23
    },
    {
     "cell_type": "code",
     "collapsed": false,
     "input": [
      "tons = tons.merge(income)"
     ],
     "language": "python",
     "metadata": {},
     "outputs": [],
     "prompt_number": 25
    },
    {
     "cell_type": "code",
     "collapsed": false,
     "input": [
      "tons.rename(columns={'HHE': 'Income'}, inplace=True)"
     ],
     "language": "python",
     "metadata": {},
     "outputs": [],
     "prompt_number": 29
    },
    {
     "cell_type": "code",
     "collapsed": false,
     "input": [
      "tons.to_csv('Data/data_set.csv', index=False)"
     ],
     "language": "python",
     "metadata": {},
     "outputs": [],
     "prompt_number": 33
    },
    {
     "cell_type": "code",
     "collapsed": false,
     "input": [
      "import matplotlib.pyplot as plt\n",
      "plt.scatter(tons['MGPTONSCOLLECTED'], tons['Income'])\n",
      "plt.show()"
     ],
     "language": "python",
     "metadata": {},
     "outputs": [],
     "prompt_number": 32
    },
    {
     "cell_type": "code",
     "collapsed": false,
     "input": [
      "# Add Paper recycling and MGP recycling for total recycling\n",
      "tons['Total_Recycling'] = tons['PAPERTONSCOLLECTED'] + tons['MGPTONSCOLLECTED']"
     ],
     "language": "python",
     "metadata": {},
     "outputs": [],
     "prompt_number": 198
    },
    {
     "cell_type": "code",
     "collapsed": false,
     "input": [
      "# Calculate Diversion Rate\n",
      "tons['Diversion_Rate'] = tons['Total_Recycling'] / (tons['REFUSETONSCOLLECTED'] + tons['Total_Recycling'])"
     ],
     "language": "python",
     "metadata": {},
     "outputs": [],
     "prompt_number": 201
    },
    {
     "cell_type": "code",
     "collapsed": false,
     "input": [
      "# Calculate Per Capita Diversion Rate - multiple by 100000 to have reasonable numbers\n",
      "tons['Per_Capita_Diversion_Rate'] = (tons['Diversion_Rate'] / tons['2010']) * 100000"
     ],
     "language": "python",
     "metadata": {},
     "outputs": [],
     "prompt_number": 207
    },
    {
     "cell_type": "code",
     "collapsed": false,
     "input": [
      "tons.to_csv('diversion_rate.csv', index=False)"
     ],
     "language": "python",
     "metadata": {},
     "outputs": [],
     "prompt_number": 209
    }
   ],
   "metadata": {}
  }
 ]
}