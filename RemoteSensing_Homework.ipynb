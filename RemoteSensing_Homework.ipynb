{
 "metadata": {
  "name": "",
  "signature": "sha256:efecedd8da88cbdafd4cd2d7f96892a4ca87ba911648c89fc03c53ea67674130"
 },
 "nbformat": 3,
 "nbformat_minor": 0,
 "worksheets": [
  {
   "cells": [
    {
     "cell_type": "code",
     "collapsed": false,
     "input": [
      "import pandas as pd\n",
      "from datetime import datetime"
     ],
     "language": "python",
     "metadata": {},
     "outputs": [],
     "prompt_number": 1
    },
    {
     "cell_type": "markdown",
     "metadata": {},
     "source": [
      "## DSNY Tonnage Data"
     ]
    },
    {
     "cell_type": "code",
     "collapsed": false,
     "input": [
      "data = pd.read_csv('DSNY_Monthly_Tonnage_Data.csv')"
     ],
     "language": "python",
     "metadata": {},
     "outputs": [],
     "prompt_number": 2
    },
    {
     "cell_type": "code",
     "collapsed": false,
     "input": [
      "# Create accurate borocd numbers\n",
      "district = []\n",
      "for i in data['COMMUNITYDISTRICT']:\n",
      "    if len(str(i)) == 1:\n",
      "        i = \"0\" + str(i)\n",
      "        district.append(i)\n",
      "    else:\n",
      "        district.append(i)\n",
      "\n",
      "data['COMMUNITYDISTRICT'] = district"
     ],
     "language": "python",
     "metadata": {},
     "outputs": [],
     "prompt_number": 32
    },
    {
     "cell_type": "code",
     "collapsed": false,
     "input": [
      "# join to create borocd\n",
      "data['BoroCD'] = data['BOROUGH_ID'].astype(str) + data['COMMUNITYDISTRICT'].astype(str)"
     ],
     "language": "python",
     "metadata": {},
     "outputs": [],
     "prompt_number": 36
    },
    {
     "cell_type": "code",
     "collapsed": false,
     "input": [
      "# Format Time in order to subset latter\n",
      "data['Collection_Date'] = [datetime.strptime(x, '%Y / %m') for x in data['MONTH']]"
     ],
     "language": "python",
     "metadata": {},
     "outputs": [],
     "prompt_number": 46
    },
    {
     "cell_type": "code",
     "collapsed": false,
     "input": [
      "# set time as index to subset later\n",
      "data.set_index('Collection_Date', inplace=True)"
     ],
     "language": "python",
     "metadata": {},
     "outputs": [],
     "prompt_number": 49
    },
    {
     "cell_type": "code",
     "collapsed": false,
     "input": [
      "#data.drop('MONTH', axis=1, inplace=True)"
     ],
     "language": "python",
     "metadata": {},
     "outputs": [],
     "prompt_number": 52
    },
    {
     "cell_type": "markdown",
     "metadata": {},
     "source": [
      "## Read Population"
     ]
    },
    {
     "cell_type": "code",
     "collapsed": false,
     "input": [
      "pop = pd.read_excel('Remote_Sensing/t_pl_p1_cd.xlsx', skiprows=5)"
     ],
     "language": "python",
     "metadata": {},
     "outputs": [],
     "prompt_number": 147
    },
    {
     "cell_type": "code",
     "collapsed": false,
     "input": [
      "# Subset\n",
      "pop.dropna(inplace=True)\n",
      "pop.columns = ['BoroCD','Community_District', '1970', '1980','1990','2000','2010','Number','Percent']\n",
      "pop = pop[['BoroCD', '2010']]"
     ],
     "language": "python",
     "metadata": {},
     "outputs": [],
     "prompt_number": 149
    },
    {
     "cell_type": "code",
     "collapsed": false,
     "input": [
      "# Clean Data\n",
      "district = []\n",
      "for i in pop['BoroCD']:\n",
      "    i = str(i).strip()\n",
      "    if len(str(i)) == 1:\n",
      "        i = \"0\" + str(i)\n",
      "        district.append(i)\n",
      "    else:\n",
      "        district.append(str(i))\n",
      "pop['BoroCD'] = district"
     ],
     "language": "python",
     "metadata": {},
     "outputs": [],
     "prompt_number": 151
    },
    {
     "cell_type": "code",
     "collapsed": false,
     "input": [
      "# Create proper BoroCD column\n",
      "pop['BoroCD'][0:12] = [\"2\" + str(x) for x in pop['BoroCD'][0:12]]\n",
      "pop['BoroCD'][12:30] = [\"3\" + str(x) for x in pop['BoroCD'][12:30]]\n",
      "pop['BoroCD'][30:42] = [\"1\" + str(x) for x in pop['BoroCD'][30:42]]\n",
      "pop['BoroCD'][42:56] = [\"4\" + str(x) for x in pop['BoroCD'][42:56]]\n",
      "pop['BoroCD'][56:59] = [\"5\" + str(x) for x in pop['BoroCD'][56:59]]"
     ],
     "language": "python",
     "metadata": {},
     "outputs": [],
     "prompt_number": 152
    },
    {
     "cell_type": "markdown",
     "metadata": {},
     "source": [
      "# Merge Files"
     ]
    },
    {
     "cell_type": "code",
     "collapsed": false,
     "input": [
      "# Subset 2014 data\n",
      "tons_2014 = data['2014'].groupby(['BoroCD'])['REFUSETONSCOLLECTED', 'PAPERTONSCOLLECTED','MGPTONSCOLLECTED'].sum()"
     ],
     "language": "python",
     "metadata": {},
     "outputs": [],
     "prompt_number": 195
    },
    {
     "cell_type": "code",
     "collapsed": false,
     "input": [
      "# Merge population data with tonnage data\n",
      "tons = tons_2014.reset_index().merge(pop)"
     ],
     "language": "python",
     "metadata": {},
     "outputs": [],
     "prompt_number": 196
    },
    {
     "cell_type": "code",
     "collapsed": false,
     "input": [
      "# Add Paper recycling and MGP recycling for total recycling\n",
      "tons['Total_Recycling'] = tons['PAPERTONSCOLLECTED'] + tons['MGPTONSCOLLECTED']"
     ],
     "language": "python",
     "metadata": {},
     "outputs": [],
     "prompt_number": 198
    },
    {
     "cell_type": "code",
     "collapsed": false,
     "input": [
      "# Calculate Diversion Rate\n",
      "tons['Diversion_Rate'] = tons['Total_Recycling'] / (tons['REFUSETONSCOLLECTED'] + tons['Total_Recycling'])"
     ],
     "language": "python",
     "metadata": {},
     "outputs": [],
     "prompt_number": 201
    },
    {
     "cell_type": "code",
     "collapsed": false,
     "input": [
      "# Calculate Per Capita Diversion Rate - multiple by 100000 to have reasonable numbers\n",
      "tons['Per_Capita_Diversion_Rate'] = (tons['Diversion_Rate'] / tons['2010']) * 100000"
     ],
     "language": "python",
     "metadata": {},
     "outputs": [],
     "prompt_number": 207
    },
    {
     "cell_type": "code",
     "collapsed": false,
     "input": [
      "tons.to_csv('diversion_rate.csv', index=False)"
     ],
     "language": "python",
     "metadata": {},
     "outputs": [],
     "prompt_number": 209
    }
   ],
   "metadata": {}
  }
 ]
}