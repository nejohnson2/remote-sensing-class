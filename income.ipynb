{
 "metadata": {
  "name": "",
  "signature": "sha256:96615ae9bedcb9a9d2ac04cc14274cef65b0410b17f050697660433f95e64e5b"
 },
 "nbformat": 3,
 "nbformat_minor": 0,
 "worksheets": [
  {
   "cells": [
    {
     "cell_type": "code",
     "collapsed": false,
     "input": [
      "import pandas as pd"
     ],
     "language": "python",
     "metadata": {},
     "outputs": [],
     "prompt_number": 1
    },
    {
     "cell_type": "code",
     "collapsed": false,
     "input": [
      "data = pd.read_csv('Data/puma_acs_2013_econ_edit/GIS_2-Table 1.csv', skiprows=1)"
     ],
     "language": "python",
     "metadata": {},
     "outputs": [],
     "prompt_number": 7
    },
    {
     "cell_type": "code",
     "collapsed": false,
     "input": [
      "boro = []\n",
      "for i in data['CD_Label']:\n",
      "    i = str(i).strip()\n",
      "    if len(i) == 1:\n",
      "        i = \"0\" + i\n",
      "        boro.append(i)\n",
      "    else:\n",
      "        boro.append(i)\n",
      "\n",
      "data['CD_Label'] = boro        "
     ],
     "language": "python",
     "metadata": {},
     "outputs": [],
     "prompt_number": 12
    },
    {
     "cell_type": "code",
     "collapsed": false,
     "input": [
      "data['BoroCD'] = data['DCP_Boro'].astype(str) + data['CD_Label'].astype(str)"
     ],
     "language": "python",
     "metadata": {},
     "outputs": [],
     "prompt_number": 16
    },
    {
     "cell_type": "code",
     "collapsed": false,
     "input": [
      "data = data[['HHE', 'BoroCD']]"
     ],
     "language": "python",
     "metadata": {},
     "outputs": [],
     "prompt_number": 19
    },
    {
     "cell_type": "code",
     "collapsed": false,
     "input": [
      "data.to_csv('Data/income.csv', index=False)"
     ],
     "language": "python",
     "metadata": {},
     "outputs": [],
     "prompt_number": 20
    }
   ],
   "metadata": {}
  }
 ]
}